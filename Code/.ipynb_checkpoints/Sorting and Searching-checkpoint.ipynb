{
 "cells": [
  {
   "cell_type": "markdown",
   "metadata": {},
   "source": [
    "BUBBLE SORT"
   ]
  },
  {
   "cell_type": "code",
   "execution_count": 5,
   "metadata": {},
   "outputs": [],
   "source": [
    "def bubbleSort(arr, n) :\n",
    "    for i in range(len(arr)):\n",
    "        for j in range(len(arr)-1-i):\n",
    "            if(arr[j]>arr[j+1]):\n",
    "                arr[j],arr[j+1]=arr[j+1],arr[j]\n",
    "    return arr"
   ]
  },
  {
   "cell_type": "markdown",
   "metadata": {},
   "source": [
    "BINARY SEARCH"
   ]
  },
  {
   "cell_type": "code",
   "execution_count": 3,
   "metadata": {},
   "outputs": [],
   "source": [
    "def binarySearch(arr, n, x) :\n",
    "    low=0\n",
    "    high=len(arr)-1\n",
    "    \n",
    "    while(low<=high):\n",
    "        mid=low+(high-low)//2\n",
    "        if(x==arr[mid]):\n",
    "            return mid\n",
    "        elif x>=arr[mid]:\n",
    "            low=mid+1\n",
    "            \n",
    "        else:\n",
    "            high=mid-1\n",
    "   \n",
    "    return -1\n"
   ]
  },
  {
   "cell_type": "markdown",
   "metadata": {},
   "source": [
    "SELECTION SORT"
   ]
  },
  {
   "cell_type": "code",
   "execution_count": 4,
   "metadata": {},
   "outputs": [],
   "source": [
    "def selectionSort(arr, n) :\n",
    "    for i in range(len(arr)):\n",
    "        min=i\n",
    "        for j in range(i+1,len(arr)):\n",
    "            if(arr[j]<arr[min]):\n",
    "                min=j\n",
    "        arr[i],arr[min]= arr[min],arr[i]\n",
    "    return arr"
   ]
  },
  {
   "cell_type": "markdown",
   "metadata": {},
   "source": [
    "INSERTION SORT"
   ]
  },
  {
   "cell_type": "code",
   "execution_count": 6,
   "metadata": {},
   "outputs": [],
   "source": [
    "def insertionSort(arr, n) :\n",
    "    for i in range(1,len(arr)):\n",
    "        key=arr[i]\n",
    "        j=i-1\n",
    "        while(j>=0 and key<arr[j]):\n",
    "            arr[j+1]=arr[j]\n",
    "            j=j-1\n",
    "            arr[j+1]=key\n",
    "    return arr"
   ]
  },
  {
   "cell_type": "markdown",
   "metadata": {},
   "source": [
    "MERGE TWO SORTED ARRAY"
   ]
  },
  {
   "cell_type": "code",
   "execution_count": 25,
   "metadata": {},
   "outputs": [
    {
     "name": "stdout",
     "output_type": "stream",
     "text": [
      "[1, 2, 3, 6, 8, 11, 12, 12, 16, 17, 19]\n"
     ]
    }
   ],
   "source": [
    "\n",
    "def merge(arr1, n, arr2, m) :\n",
    "    c=[]\n",
    "    i,j=0,0\n",
    "    if(len(arr1)==0):\n",
    "        return arr2\n",
    "    elif (len(arr2)==0):\n",
    "        return arr1\n",
    "    else:\n",
    "        while(i<=len(arr1)-1 and j<=len(arr2)-1):\n",
    "            if(arr1[i]<arr2[j]):\n",
    "                c.append(arr1[i])\n",
    "                i+=1\n",
    "            else:\n",
    "                c.append(arr2[j])\n",
    "                j+=1\n",
    "        while(i<=len(arr1)-1):\n",
    "            c.append(arr1[i])\n",
    "            i=i+1\n",
    "        while(j<=len(arr2)-1):\n",
    "            c.append(arr2[j])\n",
    "            j=j+1\n",
    "        return c\n",
    "arr1=[1,3,6,11,12,17]\n",
    "arr2=[2,8,12,16,19]\n",
    "n=6\n",
    "m=5\n",
    "ans=merge(arr1, n, arr2, m)\n",
    "print(ans)"
   ]
  },
  {
   "cell_type": "markdown",
   "metadata": {},
   "source": [
    "SECOND LARGEST IN ARRAY"
   ]
  },
  {
   "cell_type": "code",
   "execution_count": 1,
   "metadata": {},
   "outputs": [],
   "source": [
    "\n",
    "def secondLargestElement(arr, n):\n",
    "    MIN_VALUE = -2147483648\n",
    "    max,secondmax=MIN_VALUE,MIN_VALUE\n",
    "    if(len(arr)==0):\n",
    "        return MIN_VALUE\n",
    "    elif(arr[-2]==arr[-1]):\n",
    "        return MIN_VALUE\n",
    "    else:\n",
    "     \n",
    "        for i in range(len(arr)):\n",
    "            if(max<arr[i]):\n",
    "                secondmax=max\n",
    "                max=arr[i]\n",
    "            elif(arr[i]!=max and arr[i]>secondmax):\n",
    "                secondmax=arr[i]\n",
    "        if(secondmax==MIN_VALUE):\n",
    "            return MIN_VALUE\n",
    "        else:\n",
    "            return secondmax\n",
    "\n"
   ]
  },
  {
   "cell_type": "markdown",
   "metadata": {},
   "source": [
    "ROTATE ARRAY"
   ]
  },
  {
   "cell_type": "code",
   "execution_count": 2,
   "metadata": {},
   "outputs": [],
   "source": [
    "def reverse(arr,i,j):\n",
    "    while(i<=j):\n",
    "        arr[i],arr[j]=arr[j],arr[i]\n",
    "        i+=1\n",
    "        j-=1\n",
    "    \n",
    "\n",
    "def rotate(arr, n, d):\n",
    "    \n",
    "    reverse(arr,0,len(arr)-1)## First reverse all element\n",
    "    reverse(arr,0,len(arr)-d-1)# #Reverse first n-d element\n",
    "    reverse(arr,len(arr)-d,len(arr)-1)## Reverse remaining element\n",
    "        \n",
    "    return arr"
   ]
  },
  {
   "cell_type": "markdown",
   "metadata": {},
   "source": [
    "PUSH ZEROS TO END"
   ]
  },
  {
   "cell_type": "code",
   "execution_count": 3,
   "metadata": {},
   "outputs": [],
   "source": [
    "\n",
    "def pushZerosAtEnd(arr, n) :\n",
    "    non_zero=[]\n",
    "    zero=[]\n",
    "    j=0\n",
    "    for  i in range(len(arr)):\n",
    "        if(arr[i]!=0):\n",
    "            arr[j],arr[i]=arr[i],arr[j]\n",
    "            j=j+1\n",
    "    return arr\n",
    "        "
   ]
  },
  {
   "cell_type": "markdown",
   "metadata": {},
   "source": [
    "CHECK ARRAY ROTATION"
   ]
  },
  {
   "cell_type": "code",
   "execution_count": 4,
   "metadata": {},
   "outputs": [],
   "source": [
    "def arrayRotateCheck(arr, n):\n",
    "    if(len(arr)<=0):\n",
    "        return 0\n",
    "    else:\n",
    "        low,high=0,len(arr)-1\n",
    "        if(arr[low]<arr[high]):\n",
    "            return 0\n",
    "        while(low<=high):\n",
    "            mid=low+(high-low)//2 #finding mid value\n",
    "\n",
    "            #corner case\n",
    "            next=(mid+1)%len(arr)\n",
    "            prev=(mid+len(arr)-1)%len(arr)\n",
    "\n",
    "            if(arr[mid]<=arr[next] and arr[mid]<=arr[prev]):\n",
    "                return mid\n",
    "            elif(arr[mid]<=arr[high]):\n",
    "                high=mid-1\n",
    "            elif(arr[0]<=arr[mid]):\n",
    "                low=mid+1\n",
    "        return -1 "
   ]
  },
  {
   "cell_type": "markdown",
   "metadata": {},
   "source": [
    "SECOND LARGEST"
   ]
  },
  {
   "cell_type": "markdown",
   "metadata": {},
   "source": [
    "The idea is to traverse the array once, check every element for the larger element, and store the previous largest element in a variable which will be our answer.\n",
    "\n",
    " \n",
    "\n",
    "Initialize two variables ‘FIRSTLARGEST’ and 'SECONDLARGEST' to ‘INT_MIN’.\n",
    "Start traversing the array.\n",
    "If the current element in the array say ‘ARR['I']’ is greater than first.\n",
    "Then update ‘FIRSTLARGEST’ and 'SECONDLARGEST' as, 'SECONDLARGEST'='FIRSTLARGEST' and 'FIRSTLARGEST' = ARR['I'].\n",
    "If the current element is in between first and second, then update 'SECONDLARGEST' to store the value of the current variable as 'SECONDLARGEST' = ARR['I'].\n",
    "Return the value stored in variable 'SECONDLARGEST'.\n",
    "If 'SECONDLARGEST' is still equal to ‘INT_MIN’, that is, no second largest element exists, return -1."
   ]
  },
  {
   "cell_type": "code",
   "execution_count": 5,
   "metadata": {},
   "outputs": [],
   "source": [
    "\n",
    "def secondLargestElement(arr, n):\n",
    "    MIN_VALUE = -2147483648\n",
    "    max,secondmax=MIN_VALUE,MIN_VALUE\n",
    "    if(len(arr)==0):\n",
    "        return MIN_VALUE\n",
    "    elif(arr[-2]==arr[-1]):\n",
    "        return MIN_VALUE\n",
    "    else:\n",
    "     \n",
    "        for i in range(len(arr)):\n",
    "            if(max<arr[i]):\n",
    "                secondmax=max\n",
    "                max=arr[i]\n",
    "            elif(arr[i]!=max and arr[i]>secondmax):\n",
    "                secondmax=arr[i]\n",
    "        if(secondmax==MIN_VALUE):\n",
    "            return MIN_VALUE\n",
    "        else:\n",
    "            return secondmax\n",
    "\n",
    "\n"
   ]
  },
  {
   "cell_type": "code",
   "execution_count": null,
   "metadata": {},
   "outputs": [],
   "source": []
  },
  {
   "cell_type": "code",
   "execution_count": null,
   "metadata": {},
   "outputs": [],
   "source": []
  },
  {
   "cell_type": "code",
   "execution_count": null,
   "metadata": {},
   "outputs": [],
   "source": []
  },
  {
   "cell_type": "code",
   "execution_count": null,
   "metadata": {},
   "outputs": [],
   "source": []
  },
  {
   "cell_type": "code",
   "execution_count": null,
   "metadata": {},
   "outputs": [],
   "source": []
  }
 ],
 "metadata": {
  "kernelspec": {
   "display_name": "Python 3",
   "language": "python",
   "name": "python3"
  },
  "language_info": {
   "codemirror_mode": {
    "name": "ipython",
    "version": 3
   },
   "file_extension": ".py",
   "mimetype": "text/x-python",
   "name": "python",
   "nbconvert_exporter": "python",
   "pygments_lexer": "ipython3",
   "version": "3.8.5"
  }
 },
 "nbformat": 4,
 "nbformat_minor": 4
}
