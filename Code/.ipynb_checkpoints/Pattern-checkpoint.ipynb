{
 "cells": [
  {
   "cell_type": "raw",
   "metadata": {},
   "source": [
    "****\n",
    "****\n",
    "****\n",
    "****"
   ]
  },
  {
   "cell_type": "raw",
   "metadata": {},
   "source": [
    "SQUARE PATTERN"
   ]
  },
  {
   "cell_type": "code",
   "execution_count": 6,
   "metadata": {},
   "outputs": [
    {
     "name": "stdout",
     "output_type": "stream",
     "text": [
      "5\n",
      "* * * * * \n",
      "* * * * * \n",
      "* * * * * \n",
      "* * * * * \n",
      "* * * * * \n"
     ]
    }
   ],
   "source": [
    "n=int(input())\n",
    "i=1\n",
    "while(i<=n):\n",
    "    j=1\n",
    "    while(j<=n):\n",
    "        print(\"*\",end=\" \")\n",
    "        j=j+1\n",
    "    print()\n",
    "    i=i+1"
   ]
  },
  {
   "cell_type": "raw",
   "metadata": {},
   "source": [
    "1 1 1 1\n",
    "2 2 2 2\n",
    "3 3 3 3\n",
    "4 4 4 4\n"
   ]
  },
  {
   "cell_type": "code",
   "execution_count": 8,
   "metadata": {},
   "outputs": [
    {
     "name": "stdout",
     "output_type": "stream",
     "text": [
      "4\n",
      "1111\n",
      "2222\n",
      "3333\n",
      "4444\n"
     ]
    }
   ],
   "source": [
    "n=int(input())\n",
    "i=1\n",
    "while(i<=n):\n",
    "    j=1\n",
    "    while(j<=n):\n",
    "        print(i,end=\"\" ,sep=\" \")\n",
    "        j=j+1\n",
    "    print()\n",
    "    i=i+1\n",
    "    "
   ]
  },
  {
   "cell_type": "raw",
   "metadata": {},
   "source": [
    "12345\n",
    "12345\n",
    "12345\n",
    "12345\n",
    "12345"
   ]
  },
  {
   "cell_type": "code",
   "execution_count": 9,
   "metadata": {},
   "outputs": [
    {
     "name": "stdout",
     "output_type": "stream",
     "text": [
      "5\n",
      "12345\n",
      "12345\n",
      "12345\n",
      "12345\n",
      "12345\n"
     ]
    }
   ],
   "source": [
    "n=int(input())\n",
    "i=1\n",
    "while(i<=n):\n",
    "    j=1\n",
    "    while(j<=n):\n",
    "        print(j,end=\"\" ,sep=\" \")\n",
    "        j=j+1\n",
    "    print()\n",
    "    i=i+1\n",
    "    "
   ]
  },
  {
   "cell_type": "raw",
   "metadata": {},
   "source": [
    "54321\n",
    "54321\n",
    "54321\n",
    "54321\n",
    "54321"
   ]
  },
  {
   "cell_type": "code",
   "execution_count": 11,
   "metadata": {},
   "outputs": [
    {
     "name": "stdout",
     "output_type": "stream",
     "text": [
      "5\n",
      "54321\n",
      "54321\n",
      "54321\n",
      "54321\n",
      "54321\n"
     ]
    }
   ],
   "source": [
    "n=int(input())\n",
    "i=1\n",
    "while(i<=n):\n",
    "    j=1\n",
    "    while(j<=n):\n",
    "        print((n+1)-j,end=\"\" ,sep=\" \")\n",
    "        j=j+1\n",
    "    print()\n",
    "    i=i+1\n",
    "    "
   ]
  },
  {
   "cell_type": "raw",
   "metadata": {},
   "source": [
    "1\n",
    "12\n",
    "123\n",
    "1234\n"
   ]
  },
  {
   "cell_type": "code",
   "execution_count": 2,
   "metadata": {},
   "outputs": [
    {
     "name": "stdout",
     "output_type": "stream",
     "text": [
      "5\n",
      "1\n",
      "12\n",
      "123\n",
      "1234\n",
      "12345\n"
     ]
    }
   ],
   "source": [
    "n=int(input())\n",
    "i=1\n",
    "while(i<=n):\n",
    "    j=1\n",
    "    while(j<=i):\n",
    "        print(j,end=\"\",sep=\" \")\n",
    "        j=j+1\n",
    "    print()\n",
    "    i=i+1"
   ]
  },
  {
   "cell_type": "raw",
   "metadata": {},
   "source": [
    "1\n",
    "2 3\n",
    "3 4 5\n",
    "4 5 6 7\n"
   ]
  },
  {
   "cell_type": "code",
   "execution_count": 29,
   "metadata": {},
   "outputs": [
    {
     "name": "stdout",
     "output_type": "stream",
     "text": [
      "6\n",
      "1 \n",
      "2 3 \n",
      "3 4 5 \n",
      "4 5 6 7 \n",
      "5 6 7 8 9 \n",
      "6 7 8 9 10 11 \n"
     ]
    }
   ],
   "source": [
    "n=int(input())\n",
    "i=1\n",
    "while(i<=n):\n",
    "    j=1\n",
    "    while(j<=i):\n",
    "        print(i+j-1,sep=\" \" ,end=\" \")\n",
    "        j=j+1\n",
    "    print()\n",
    "    i=i+1"
   ]
  },
  {
   "cell_type": "raw",
   "metadata": {},
   "source": [
    "1\n",
    "21\n",
    "321\n",
    "4321"
   ]
  },
  {
   "cell_type": "code",
   "execution_count": 11,
   "metadata": {},
   "outputs": [
    {
     "name": "stdout",
     "output_type": "stream",
     "text": [
      "5\n",
      "1\n",
      "21\n",
      "321\n",
      "4321\n",
      "54321\n"
     ]
    }
   ],
   "source": [
    "n=int(input())\n",
    "i=1\n",
    "while i<=n:\n",
    "    j=1\n",
    "    p=i\n",
    "    while(j<=i):\n",
    "        print(p,end=\"\")\n",
    "        j=j+1\n",
    "        p=p-1\n",
    "    print()\n",
    "    i=i+1\n",
    "        "
   ]
  },
  {
   "cell_type": "raw",
   "metadata": {},
   "source": [
    "1\n",
    "11\n",
    "111\n",
    "1111"
   ]
  },
  {
   "cell_type": "code",
   "execution_count": 12,
   "metadata": {},
   "outputs": [
    {
     "name": "stdout",
     "output_type": "stream",
     "text": [
      "5\n",
      "1\n",
      "11\n",
      "111\n",
      "1111\n",
      "11111\n"
     ]
    }
   ],
   "source": [
    "n=int(input())\n",
    "i=1\n",
    "while(i<=n):\n",
    "    j=1\n",
    "    while(j<=i):\n",
    "        print(\"1\",end=\"\")\n",
    "        j=j+1\n",
    "    print()\n",
    "    i=i+1"
   ]
  },
  {
   "cell_type": "raw",
   "metadata": {},
   "source": [
    "1234\n",
    "123\n",
    "12\n",
    "1"
   ]
  },
  {
   "cell_type": "code",
   "execution_count": 13,
   "metadata": {},
   "outputs": [
    {
     "name": "stdout",
     "output_type": "stream",
     "text": [
      "5\n",
      "12345\n",
      "1234\n",
      "123\n",
      "12\n",
      "1\n"
     ]
    }
   ],
   "source": [
    "n=int(input())\n",
    "i=n\n",
    "while(i>0):\n",
    "    j=1\n",
    "    while(j<=i):\n",
    "        print(j,end=\"\")\n",
    "        j=j+1\n",
    "    print()\n",
    "    i=i-1"
   ]
  },
  {
   "cell_type": "raw",
   "metadata": {},
   "source": []
  },
  {
   "cell_type": "code",
   "execution_count": 19,
   "metadata": {},
   "outputs": [
    {
     "name": "stdout",
     "output_type": "stream",
     "text": [
      "5\n",
      "1\n",
      "11\n",
      "202\n",
      "3003\n",
      "40004\n"
     ]
    }
   ],
   "source": [
    "n=int(input())\n",
    "i=1\n",
    "while(i<=n):\n",
    "    j=1\n",
    "    if(i<=2):\n",
    "        while(j<=i):\n",
    "            print(\"1\",end=\"\")\n",
    "            j=j+1\n",
    "    else:\n",
    "        p=i-1\n",
    "        while(j<=i):\n",
    "            if(j==1 or j==i):\n",
    "                print(p,end=\"\")\n",
    "            else:print(\"0\",end=\"\")\n",
    "            j=j+1\n",
    "    print()\n",
    "    i=i+1\n",
    "    \n",
    "        "
   ]
  },
  {
   "cell_type": "code",
   "execution_count": 20,
   "metadata": {},
   "outputs": [
    {
     "name": "stdout",
     "output_type": "stream",
     "text": [
      "5\n",
      "1\n",
      "11\n",
      "121\n",
      "1221\n",
      "12221\n"
     ]
    }
   ],
   "source": [
    "n=int(input())\n",
    "i=1\n",
    "while(i<=n):\n",
    "    j=1\n",
    "    if(i<=2):\n",
    "        while(j<=i):\n",
    "            print(\"1\",end=\"\")\n",
    "            j=j+1\n",
    "    else:\n",
    "        p=i-1\n",
    "        while(j<=i):\n",
    "            if(j==1 or j==i):\n",
    "                print(\"1\",end=\"\")\n",
    "            else:print(\"2\",end=\"\")\n",
    "            j=j+1\n",
    "    print()\n",
    "    i=i+1\n",
    "    "
   ]
  },
  {
   "cell_type": "raw",
   "metadata": {},
   "source": [
    "A\n",
    "BC\n",
    "CDE\n",
    "DEFG"
   ]
  },
  {
   "cell_type": "code",
   "execution_count": 21,
   "metadata": {},
   "outputs": [
    {
     "name": "stdout",
     "output_type": "stream",
     "text": [
      "5\n",
      "A\n",
      "BC\n",
      "CDE\n",
      "DEFG\n",
      "EFGHI\n"
     ]
    }
   ],
   "source": [
    "n=int(input())\n",
    "i=1\n",
    "while(i<=n):\n",
    "    j=1\n",
    "    p=i\n",
    "    while(j<=i):\n",
    "        charp=chr(ord('A')+p-1)\n",
    "        print(charp,end=\"\")\n",
    "        j=j+1\n",
    "        p=p+1\n",
    "    print()\n",
    "    i=i+1"
   ]
  },
  {
   "cell_type": "raw",
   "metadata": {},
   "source": [
    "4\n",
    "3 4\n",
    "2 3 4"
   ]
  },
  {
   "cell_type": "code",
   "execution_count": 33,
   "metadata": {},
   "outputs": [
    {
     "name": "stdout",
     "output_type": "stream",
     "text": [
      "5\n",
      "4\n",
      "34\n",
      "234\n",
      "1234\n",
      "01234\n"
     ]
    }
   ],
   "source": [
    "n=int(input())\n",
    "i=1\n",
    "while(i<=n):\n",
    "    j=1\n",
    "    x=n-i\n",
    "    while(j<=i):\n",
    "        print(x,end=\"\")\n",
    "        j=j+1\n",
    "        x=x+1\n",
    "    print()\n",
    "    \n",
    "    i=i+1\n",
    "    \n",
    "    \n",
    "   "
   ]
  },
  {
   "cell_type": "code",
   "execution_count": 34,
   "metadata": {},
   "outputs": [
    {
     "name": "stdout",
     "output_type": "stream",
     "text": [
      "5\n",
      "E\n",
      "DE\n",
      "CDE\n",
      "BCDE\n",
      "ABCDE\n"
     ]
    }
   ],
   "source": [
    "    \n",
    "n=int(input())\n",
    "i=1\n",
    "while(i<=n):\n",
    "    j=1\n",
    "    x=n-i\n",
    "    while(j<=i):\n",
    "        charp=chr(ord('A')+x)\n",
    "        print(charp,end=\"\")\n",
    "        j=j+1\n",
    "        x=x+1\n",
    "    print()\n",
    "    \n",
    "    i=i+1\n",
    "    "
   ]
  },
  {
   "cell_type": "raw",
   "metadata": {},
   "source": [
    " A\n",
    " BB\n",
    " CCC"
   ]
  },
  {
   "cell_type": "code",
   "execution_count": 35,
   "metadata": {},
   "outputs": [
    {
     "name": "stdout",
     "output_type": "stream",
     "text": [
      "5\n",
      "A\n",
      "BB\n",
      "CCC\n",
      "DDDD\n",
      "EEEEE\n"
     ]
    }
   ],
   "source": [
    "n=int(input())\n",
    "i=1\n",
    "while(i<=n):\n",
    "    j=1\n",
    "    while(j<=i):\n",
    "        charp=chr(ord('A')+i-1)\n",
    "        print(charp,end=\"\")\n",
    "        j=j+1\n",
    "    print()\n",
    "    i=i+1"
   ]
  },
  {
   "cell_type": "raw",
   "metadata": {},
   "source": [
    "4444\n",
    "333\n",
    "22\n",
    "1"
   ]
  },
  {
   "cell_type": "code",
   "execution_count": 36,
   "metadata": {},
   "outputs": [
    {
     "name": "stdout",
     "output_type": "stream",
     "text": [
      "5\n",
      "55555\n",
      "4444\n",
      "333\n",
      "22\n",
      "1\n"
     ]
    }
   ],
   "source": [
    "num=int(input())\n",
    "i=num\n",
    "while(i>0):\n",
    "    j=1\n",
    "    while(j<=i):\n",
    "        print(i,end=\"\")\n",
    "        j=j+1\n",
    "    print()\n",
    "    i=i-1"
   ]
  },
  {
   "cell_type": "raw",
   "metadata": {},
   "source": [
    "   1\n",
    "  12\n",
    " 123\n",
    "1234\n"
   ]
  },
  {
   "cell_type": "code",
   "execution_count": 37,
   "metadata": {},
   "outputs": [
    {
     "name": "stdout",
     "output_type": "stream",
     "text": [
      "10\n",
      "         1\n",
      "        12\n",
      "       123\n",
      "      1234\n",
      "     12345\n",
      "    123456\n",
      "   1234567\n",
      "  12345678\n",
      " 123456789\n",
      "12345678910\n"
     ]
    }
   ],
   "source": [
    "num=int(input())\n",
    "i=1\n",
    "while(i<=num):\n",
    "    space=1\n",
    "    while(space<=num-i):\n",
    "        print(\"\",end=\" \")\n",
    "        space=space+1\n",
    "    number=1\n",
    "    while(number<=i):\n",
    "        print(number,end=\"\")\n",
    "        number=number+1\n",
    "    \n",
    "    print()\n",
    "    i=i+1\n",
    "        "
   ]
  },
  {
   "cell_type": "raw",
   "metadata": {},
   "source": [
    "  *\n",
    "  ***\n",
    " *****\n",
    "*******\n"
   ]
  },
  {
   "cell_type": "code",
   "execution_count": 38,
   "metadata": {},
   "outputs": [
    {
     "name": "stdout",
     "output_type": "stream",
     "text": [
      "5\n",
      "    *\n",
      "   ***\n",
      "  *****\n",
      " *******\n",
      "*********\n"
     ]
    }
   ],
   "source": [
    "num=int(input())\n",
    "i=0\n",
    "while(i<num):\n",
    "    space=1\n",
    "    while(space<=num-i-1):\n",
    "        print(\"\",end=\" \")\n",
    "        space=space+1\n",
    "    number=1\n",
    "    while(number<=i*2+1):\n",
    "        print(\"*\",end=\"\")\n",
    "        number=number+1\n",
    "    print()\n",
    "    i=i+1\n",
    "        "
   ]
  },
  {
   "cell_type": "code",
   "execution_count": 62,
   "metadata": {},
   "outputs": [
    {
     "name": "stdout",
     "output_type": "stream",
     "text": [
      "4\n",
      "  12\n",
      " 1234\n",
      "123456\n"
     ]
    }
   ],
   "source": [
    "num=int(input())\n",
    "i=1\n",
    "while(i<num):\n",
    "    space=1\n",
    "    while(space<=num-i-1):\n",
    "        print(\"\",end=\" \")\n",
    "        space=space+1\n",
    "    number=1\n",
    "    while(number<=i*2):\n",
    "        print(number,end=\"\")\n",
    "        number=number+1\n",
    "    x=i*2+1\n",
    "    while(j<=i):\n",
    "        print(x,end=\"\")\n",
    "        j=j+1\n",
    "        x=x-1\n",
    "   \n",
    "    print()\n",
    "    i=i+1\n",
    "        "
   ]
  },
  {
   "cell_type": "code",
   "execution_count": 1,
   "metadata": {},
   "outputs": [
    {
     "name": "stdout",
     "output_type": "stream",
     "text": [
      "5\n",
      "    1\n",
      "   121\n",
      "  12321\n",
      " 1234321\n",
      "123454321\n"
     ]
    }
   ],
   "source": [
    "n=int(input())\n",
    "row=1\n",
    "while row<=n:\n",
    "    space=1\n",
    "    while space<=n-row:\n",
    "        print(\" \",end=\"\")\n",
    "        space=space+1\n",
    "    num=1\n",
    "    while num<=row:\n",
    "        print(num,end=\"\")\n",
    "        num=num+1\n",
    "    num=row-1\n",
    "    while num>=1:\n",
    "        print(num,end=\"\")\n",
    "        num=num-1\n",
    "    print()\n",
    "    row=row+1"
   ]
  },
  {
   "cell_type": "code",
   "execution_count": 6,
   "metadata": {},
   "outputs": [
    {
     "name": "stdout",
     "output_type": "stream",
     "text": [
      "4\n",
      "   1\n",
      "  232\n",
      " 34543\n",
      "4567654\n"
     ]
    }
   ],
   "source": [
    "n=int(input())\n",
    "row=1\n",
    "while row<=n:\n",
    "    space=1\n",
    "    while space<=n-row:\n",
    "        print(\" \",end=\"\")\n",
    "        space=space+1\n",
    "        \n",
    "    num=1\n",
    "    \n",
    "    while num<=row:\n",
    "        print(row+num-1,end=\"\")\n",
    "        num=num+1\n",
    "    num=row-1\n",
    "    while num>=1:\n",
    "        print(num+row-1,end=\"\")\n",
    "        num=num-1\n",
    "    print()\n",
    "    row=row+1"
   ]
  },
  {
   "cell_type": "raw",
   "metadata": {},
   "source": [
    "Diamond"
   ]
  },
  {
   "cell_type": "code",
   "execution_count": 12,
   "metadata": {},
   "outputs": [
    {
     "name": "stdout",
     "output_type": "stream",
     "text": [
      "5\n",
      " *\n",
      "***\n",
      "*******\n",
      " *******\n",
      "  *******\n"
     ]
    }
   ],
   "source": [
    "num=int(input())\n",
    "m=(n+1)/2\n",
    "i=1\n",
    "while(i<=num):\n",
    "    if(i<m):\n",
    "        b=m-i\n",
    "        s=2*i-1\n",
    "    else:\n",
    "        b=i-m\n",
    "        s=2*(n-1)+1\n",
    "        \n",
    "    space=1\n",
    "    while(space<=b):\n",
    "        print(\"\",end=\" \")\n",
    "        space=space+1    \n",
    "    number=1\n",
    "    while(number<=s):\n",
    "        print(\"*\",end=\"\")\n",
    "        number=number+1\n",
    "    print()\n",
    "    i=i+1"
   ]
  },
  {
   "cell_type": "code",
   "execution_count": 13,
   "metadata": {},
   "outputs": [
    {
     "name": "stdout",
     "output_type": "stream",
     "text": [
      "   *\n",
      "  ***\n",
      " *****\n",
      "*******\n",
      " *****\n",
      "  ***\n",
      "   *\n",
      "    \n"
     ]
    }
   ],
   "source": [
    "n = 4\n",
    "for i in range(n):\n",
    "    print(' '*(n-i-1) + '*'*((2*i)+1) )\n",
    "for i in range(n):\n",
    "    print(' '*(i+1) + '*'*((2*((n-1)-i))-1))"
   ]
  },
  {
   "cell_type": "code",
   "execution_count": 21,
   "metadata": {},
   "outputs": [
    {
     "name": "stdout",
     "output_type": "stream",
     "text": [
      "4\n",
      "   1\n",
      "  212\n",
      " 32123\n",
      "4321234\n"
     ]
    }
   ],
   "source": [
    "n=int(input())\n",
    "row=1\n",
    "while row<=n:\n",
    "    space=1\n",
    "    while space<=n-row:\n",
    "        print(\" \",end=\"\")\n",
    "        space=space+1\n",
    "        \n",
    "    num=1\n",
    "    p=row\n",
    "    \n",
    "    while num<=row:\n",
    "        print(p,end=\"\")\n",
    "        num=num+1\n",
    "        p=p-1\n",
    "    num=1\n",
    "    q=2\n",
    "    while num<=row-1:\n",
    "        print(q,end=\"\")\n",
    "        num=num+1\n",
    "        q=q+1\n",
    "    print()\n",
    "    row=row+1"
   ]
  },
  {
   "cell_type": "code",
   "execution_count": 25,
   "metadata": {},
   "outputs": [
    {
     "name": "stdout",
     "output_type": "stream",
     "text": [
      "4\n",
      "1      1\n",
      "12    21\n",
      "123  321\n",
      "12344321\n"
     ]
    }
   ],
   "source": [
    "n=int(input())\n",
    "row=1\n",
    "while row<=n:\n",
    "   \n",
    "    num=1\n",
    "    p=row\n",
    "    while num<=row:\n",
    "        print(num,end=\"\")\n",
    "        num=num+1\n",
    "        p=p-1\n",
    "    space=1\n",
    "    while space<=n-row:\n",
    "        print(\" \",end=\"\")\n",
    "        space=space+1\n",
    "        \n",
    "    num=1\n",
    "    space=1\n",
    "    while space<=n-row:\n",
    "        print(\" \",end=\"\")\n",
    "        space=space+1\n",
    "        \n",
    "    q=row\n",
    "    while num<=row:\n",
    "        print(q,end=\"\")\n",
    "        num=num+1\n",
    "        q=q-1\n",
    "    print()\n",
    "    row=row+1"
   ]
  },
  {
   "cell_type": "code",
   "execution_count": 48,
   "metadata": {},
   "outputs": [
    {
     "name": "stdout",
     "output_type": "stream",
     "text": [
      "5\n",
      "    *\n",
      "   ***\n",
      "  *****\n",
      "   ***\n",
      "    *\n"
     ]
    }
   ],
   "source": [
    "n=int(input())\n",
    "upper=(n//2)+1\n",
    "lower=(n//2)\n",
    "i=0\n",
    "for i in range(1,upper+1):\n",
    "        space=1\n",
    "        while(space<=n-i):\n",
    "            print(\" \",end=\"\")\n",
    "            space=space+1\n",
    "        j=1\n",
    "        while(j<=2*i-1):\n",
    "            print(\"*\",end=\"\")\n",
    "            j=j+1\n",
    "        print()\n",
    "for j in range(lower,0,-1):\n",
    "    space1=1\n",
    "    while(space1<=n-j):\n",
    "        print(\"\",end=\" \")\n",
    "        space1=space1+1\n",
    "    k=1\n",
    "    while(k<=2*j-1):\n",
    "        print(\"*\",end=\"\")\n",
    "        k=k+1\n",
    "    print()\n",
    "    \n",
    "  \n",
    "\n",
    "\n",
    "\n"
   ]
  },
  {
   "cell_type": "code",
   "execution_count": 52,
   "metadata": {},
   "outputs": [
    {
     "name": "stdout",
     "output_type": "stream",
     "text": [
      "5\n",
      "  *\n",
      " ***\n",
      "*****\n",
      " ***\n",
      "  *\n"
     ]
    }
   ],
   "source": [
    "n=int(input())\n",
    "upper=(n//2)+1\n",
    "lower=(n//2)\n",
    "i=0\n",
    "for i in range(1,upper+1):\n",
    "        space=1\n",
    "        while(space<=upper-i):\n",
    "            print(\" \",end=\"\")\n",
    "            space=space+1\n",
    "        j=1\n",
    "        while(j<=2*i-1):\n",
    "            print(\"*\",end=\"\")\n",
    "            j=j+1\n",
    "        print()\n",
    "for j in range(lower,0,-1):\n",
    "    space1=1\n",
    "    while(space1<=(n//2)+1-j):\n",
    "        print(\" \",end=\"\")\n",
    "        space1=space1+1\n",
    "    k=1\n",
    "    while(k<=2*j-1):\n",
    "        print(\"*\",end=\"\")\n",
    "        k=k+1\n",
    "    print()"
   ]
  },
  {
   "cell_type": "code",
   "execution_count": 7,
   "metadata": {},
   "outputs": [
    {
     "name": "stdout",
     "output_type": "stream",
     "text": [
      "11\n",
      "* \n",
      " * * \n",
      "  * * * \n",
      "   * * * * \n",
      "    * * * * * \n",
      "    * * * *\n",
      "   * * *\n",
      "  * *\n",
      " *\n"
     ]
    }
   ],
   "source": [
    "n=int(input())\n",
    "upper=((n+1)//2)\n",
    "lower=(n//2)\n",
    "i=0\n",
    "for i in range(1,upper):\n",
    "        space=1\n",
    "        while(space<=i-1):\n",
    "            print(\" \",end=\"\")\n",
    "            space=space+1\n",
    "        j=1\n",
    "        while(j<=i):\n",
    "            print(\"* \",end=\"\")\n",
    "            j=j+1\n",
    "        print()\n",
    "for k in range(lower-1,0,-1):\n",
    "    space1=k-1\n",
    "    while(space1>0):\n",
    "        print(\" \",end=\"\")\n",
    "        space1=space1-1\n",
    "    l=k\n",
    "    while(l>0):\n",
    "        print(\" *\",end=\"\")\n",
    "        l=l-1\n",
    "    print()"
   ]
  },
  {
   "cell_type": "code",
   "execution_count": 6,
   "metadata": {},
   "outputs": [
    {
     "name": "stdout",
     "output_type": "stream",
     "text": [
      "5\n",
      "11111\n",
      "0000\n",
      "111\n",
      "00\n",
      "1\n"
     ]
    }
   ],
   "source": [
    "n=int(input())\n",
    "if(n%2==0):\n",
    "    for i in range(n,0,-1):\n",
    "        if(i%2==0):\n",
    "            for j in range(i):\n",
    "                print(\"1\",end=\"\")\n",
    "        else:\n",
    "            for j in range(i):\n",
    "                print(\"0\",end=\"\")\n",
    "        print()\n",
    "else:\n",
    "    for i in range(n,0,-1):\n",
    "        if(i%2!=0):\n",
    "            for j in range(i):\n",
    "                print(\"1\",end=\"\")\n",
    "        else:\n",
    "            for j in range(i):\n",
    "                print(\"0\",end=\"\")\n",
    "        print()"
   ]
  },
  {
   "cell_type": "code",
   "execution_count": 37,
   "metadata": {},
   "outputs": [
    {
     "name": "stdout",
     "output_type": "stream",
     "text": [
      "6\n",
      "123456\n",
      "x23456\n",
      "xx3456\n",
      "xxx456\n",
      "xxxx56\n",
      "xxxxx6\n",
      "xxxx56\n",
      "xxx456\n",
      "xx3456\n",
      "x23456\n",
      "123456\n"
     ]
    }
   ],
   "source": [
    "n=int(input())\n",
    "for i in range(n,0,-1):\n",
    "    space=n-i\n",
    "    p=n-i+1\n",
    "    for k in range(space):\n",
    "        print(\"x\",end=\"\")\n",
    "    for j in range(1,i+1):\n",
    "        print(p,end=\"\")\n",
    "        p=p+1\n",
    "    space+=1\n",
    "    print()\n",
    "\n",
    "for i in range(2,n+1):\n",
    "    space=n-i\n",
    "    \n",
    "    for k in range(space):\n",
    "        print(\"x\",end=\"\")\n",
    "    p=n+1-i\n",
    "    for j in range(1,i+1):\n",
    "        print(p,end=\"\")\n",
    "        p=p+1\n",
    "    space+=1\n",
    "    print()"
   ]
  },
  {
   "cell_type": "raw",
   "metadata": {},
   "source": [
    "4444444\n",
    "4333334\n",
    "4322234\n",
    "4321234\n",
    "4322234\n",
    "4333334  \n",
    "4444444"
   ]
  },
  {
   "cell_type": "code",
   "execution_count": 38,
   "metadata": {},
   "outputs": [
    {
     "name": "stdout",
     "output_type": "stream",
     "text": [
      "5\n",
      "555555555\n",
      "544444445\n",
      "543333345\n",
      "543222345\n",
      "543212345\n",
      "543222345\n",
      "543333345\n",
      "544444445\n",
      "555555555\n"
     ]
    }
   ],
   "source": [
    "n=int(input())\n",
    "answer=[['1']]\n",
    "for i in range(2, n+1):\n",
    "    #print(\"i= \"+str(i))\n",
    "    t=[str(i)]*((2*i)-3)\n",
    "    t2=[str(i)]*((2*i)-3)\n",
    "    answer.insert(0, t2)\n",
    "    answer.append(t)\n",
    "    for a in answer:\n",
    "        a.insert(0,str(i))\n",
    "        a.append(str(i))\n",
    "\n",
    "answerfinal=[]\n",
    "for a in answer:\n",
    "    answerfinal.append(\"\".join(a))\n",
    "for a in answerfinal:\n",
    "    print(a)"
   ]
  },
  {
   "cell_type": "code",
   "execution_count": 53,
   "metadata": {},
   "outputs": [
    {
     "name": "stdout",
     "output_type": "stream",
     "text": [
      "5\n",
      "1 2 3 4 5 \n",
      "6 7 8 9 10 \n",
      "11 12 13 14 15 \n",
      "16 17 18 19 20 \n",
      "21 22 23 24 25 \n"
     ]
    }
   ],
   "source": [
    "n=int(input())\n",
    "for i in range(n):\n",
    "    p=n*i+1\n",
    "    for j in range(n):\n",
    "        print(p,end=\" \")\n",
    "        p=p+1\n",
    "    print()"
   ]
  },
  {
   "cell_type": "code",
   "execution_count": 58,
   "metadata": {},
   "outputs": [
    {
     "name": "stdout",
     "output_type": "stream",
     "text": [
      "5\n",
      "1 2 3 4 5 \n",
      "11 12 13 14 15 \n",
      "21 22 23 24 25 \n",
      "16 17 18 19 20 \n",
      "6 7 8 9 10 \n"
     ]
    }
   ],
   "source": [
    "n=int(input())\n",
    "for i in range(n):\n",
    "    if(i%2==0):\n",
    "        p=n*i+1\n",
    "        for j in range(n):\n",
    "            print(p,end=\" \")\n",
    "            p=p+1\n",
    "    else:continue\n",
    "    print()\n",
    "for i in range(n-1,0,-1):\n",
    "    if(i%2!=0):\n",
    "        p=n*i+1\n",
    "        for j in range(n):\n",
    "            print(p,end=\" \")\n",
    "            p=p+1\n",
    "        print()"
   ]
  },
  {
   "cell_type": "code",
   "execution_count": 61,
   "metadata": {},
   "outputs": [
    {
     "name": "stdout",
     "output_type": "stream",
     "text": [
      "0\n",
      "100\n",
      "20\n",
      "0 -17\n",
      "20 -6\n",
      "40 4\n",
      "60 15\n",
      "80 26\n"
     ]
    }
   ],
   "source": [
    "def printTable(start,end,step):\n",
    "    for i in range(start,end,step):\n",
    "        C=(i-32)/1.8\n",
    "        x=int(C)\n",
    "        print(i ,x,sep=\" \")\n",
    "\n",
    "    \n",
    "\n",
    "\t   \n",
    "s = int(input())\n",
    "e = int(input())\n",
    "step = int(input())\n",
    "printTable(s,e,step)\n",
    "\n",
    "\n"
   ]
  },
  {
   "cell_type": "code",
   "execution_count": null,
   "metadata": {},
   "outputs": [],
   "source": [
    "S=int(input())\n",
    "E=int(input())\n",
    "W=int(input())\n",
    "for i in range(S,E,W):\n",
    "    C=(i-32)/1.8\n",
    "    x=int(C)\n",
    "    print(i ,x,sep=\" \")"
   ]
  },
  {
   "cell_type": "code",
   "execution_count": 8,
   "metadata": {},
   "outputs": [
    {
     "name": "stdout",
     "output_type": "stream",
     "text": [
      "1\n",
      "1\n",
      "1\n",
      "true\n"
     ]
    }
   ],
   "source": [
    "n=input()\n",
    "original=int(n)\n",
    "x=list(n)\n",
    "length=len(x)\n",
    "i=0\n",
    "new=original\n",
    "print(original)\n",
    "while(original>0):\n",
    "    rem=original%10\n",
    "    i=i+rem**length\n",
    "    original=original//10\n",
    "    \n",
    "print(i)\n",
    "if(new==i):\n",
    "    print(\"true\")\n",
    "else:print(\"false\")\n",
    "    \n"
   ]
  },
  {
   "cell_type": "code",
   "execution_count": 16,
   "metadata": {},
   "outputs": [
    {
     "name": "stdout",
     "output_type": "stream",
     "text": [
      "5\n",
      "5432*\n",
      "543*1\n",
      "54*21\n",
      "5*321\n",
      "*4321\n"
     ]
    }
   ],
   "source": [
    "n=int(input())\n",
    "for i in range(1,n+1):\n",
    "    for j in range(n,0,-1):\n",
    "        if(j==i):\n",
    "            print(\"*\",end=\"\")\n",
    "        else:print(j,end=\"\")\n",
    "    print()"
   ]
  },
  {
   "cell_type": "code",
   "execution_count": 24,
   "metadata": {},
   "outputs": [
    {
     "name": "stdout",
     "output_type": "stream",
     "text": [
      "4\n",
      "*000*000*\n",
      "0*00*00*0\n",
      "00*0*0*00\n",
      "000***000\n"
     ]
    }
   ],
   "source": [
    "n=int(input())\n",
    "for i in range(n):\n",
    "    for j in range(n):\n",
    "        if(i==j):\n",
    "            print(\"*\",end=\"\")\n",
    "        else:\n",
    "            print(\"0\",end=\"\")\n",
    "    print(\"*\",end=\"\")\n",
    "    for j in range(n):\n",
    "        if(j==n-1-i):\n",
    "            print(\"*\",end=\"\")\n",
    "        else:\n",
    "            print(\"0\",end=\"\")\n",
    "    \n",
    "    print()\n",
    "        "
   ]
  },
  {
   "cell_type": "code",
   "execution_count": null,
   "metadata": {},
   "outputs": [],
   "source": []
  },
  {
   "cell_type": "code",
   "execution_count": null,
   "metadata": {},
   "outputs": [],
   "source": []
  },
  {
   "cell_type": "code",
   "execution_count": null,
   "metadata": {},
   "outputs": [],
   "source": []
  },
  {
   "cell_type": "code",
   "execution_count": null,
   "metadata": {},
   "outputs": [],
   "source": []
  }
 ],
 "metadata": {
  "kernelspec": {
   "display_name": "Python 3",
   "language": "python",
   "name": "python3"
  },
  "language_info": {
   "codemirror_mode": {
    "name": "ipython",
    "version": 3
   },
   "file_extension": ".py",
   "mimetype": "text/x-python",
   "name": "python",
   "nbconvert_exporter": "python",
   "pygments_lexer": "ipython3",
   "version": "3.8.5"
  }
 },
 "nbformat": 4,
 "nbformat_minor": 4
}
