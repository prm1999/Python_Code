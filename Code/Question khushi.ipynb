{
 "cells": [
  {
   "cell_type": "code",
   "execution_count": 10,
   "metadata": {},
   "outputs": [
    {
     "name": "stdout",
     "output_type": "stream",
     "text": [
      "5\n",
      "12\n",
      "3\n",
      "120\n",
      "24\n",
      "1\n",
      "[12, 3, 120, 24, 1]\n",
      "[1, 3, 12, 24, 120]\n",
      "yes\n"
     ]
    }
   ],
   "source": [
    "a=int(input())\n",
    "x=[]\n",
    "length=len(x)\n",
    "for i in range(a):\n",
    "    p=int(input())\n",
    "    x.append(p)\n",
    "\n",
    "print(x)\n",
    "x.sort()\n",
    "print(x)\n",
    "count=0\n",
    "x_count=0\n",
    "for i in range(a-1):\n",
    "    if(x[i]<x[i+1] and x[i+1]%x[i]==0):\n",
    "        count=count+1\n",
    "    else:\n",
    "        x_count+=x_count\n",
    "if(count==a-1):\n",
    "    print(\"yes\")\n",
    "else:print(\"no\")\n",
    "        \n",
    "    "
   ]
  },
  {
   "cell_type": "code",
   "execution_count": null,
   "metadata": {},
   "outputs": [],
   "source": []
  }
 ],
 "metadata": {
  "kernelspec": {
   "display_name": "Python 3",
   "language": "python",
   "name": "python3"
  },
  "language_info": {
   "codemirror_mode": {
    "name": "ipython",
    "version": 3
   },
   "file_extension": ".py",
   "mimetype": "text/x-python",
   "name": "python",
   "nbconvert_exporter": "python",
   "pygments_lexer": "ipython3",
   "version": "3.8.5"
  }
 },
 "nbformat": 4,
 "nbformat_minor": 4
}
