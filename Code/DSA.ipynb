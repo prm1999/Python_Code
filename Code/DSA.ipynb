{
 "cells": [
  {
   "cell_type": "code",
   "execution_count": 10,
   "metadata": {},
   "outputs": [
    {
     "name": "stdout",
     "output_type": "stream",
     "text": [
      "not Found\n"
     ]
    }
   ],
   "source": [
    "def linearsearch(key,arr):\n",
    "    for i in range(len(arr)-1):\n",
    "        if key==arr[i]:\n",
    "            return True\n",
    "\n",
    "arr=[1,2,4,5,6]\n",
    "key=7\n",
    "x=linearsearch(key,arr)\n",
    "if(x==True):\n",
    "    print(\"Found\")\n",
    "else:print(\"not Found\")\n"
   ]
  },
  {
   "cell_type": "code",
   "execution_count": 16,
   "metadata": {},
   "outputs": [
    {
     "name": "stdout",
     "output_type": "stream",
     "text": [
      "Found\n"
     ]
    }
   ],
   "source": [
    "def binarysearch(key,arr):\n",
    "    low=0\n",
    "    high=len(arr)-1\n",
    "    while(low<=high):\n",
    "        mid=low+(high-low)\n",
    "        if(arr[mid]==key):\n",
    "            return mid\n",
    "        elif(arr[mid]<key):\n",
    "            low=mid+1\n",
    "        elif(arr[mid]>key):\n",
    "            high=mid-1\n",
    "        else:return False\n",
    "        \n",
    "arr=[1,2,4,5,6]\n",
    "key=5\n",
    "for i in range(t):\n",
    "    x=binarysearch(key,arr)\n",
    "    if(x!=False):\n",
    "        print(\"Found\")\n",
    "    else:print(\"Not Found\")"
   ]
  },
  {
   "cell_type": "code",
   "execution_count": 24,
   "metadata": {},
   "outputs": [
    {
     "name": "stdout",
     "output_type": "stream",
     "text": [
      "[0, 2, 3, 4, 5, 7, 8, 9, 10]\n"
     ]
    }
   ],
   "source": [
    "def selectionsort(arr):\n",
    "    for i in range(len(arr)):\n",
    "        minium=i\n",
    "        for j in range(i+1,len(arr)):\n",
    "            if(arr[minium]>arr[j]):\n",
    "                minium=j\n",
    "        arr[i],arr[minium]=arr[minium],arr[i]\n",
    "    return arr\n",
    "    \n",
    "\n",
    "arr=[8,5,4,9,0,7,3,10,2]\n",
    "x=selectionsort(arr)\n",
    "print(x)"
   ]
  },
  {
   "cell_type": "code",
   "execution_count": 1,
   "metadata": {},
   "outputs": [
    {
     "name": "stdout",
     "output_type": "stream",
     "text": [
      "[0, 2, 3, 4, 5, 7, 8, 9, 10]\n"
     ]
    }
   ],
   "source": [
    "def bubble_sort(arr):\n",
    "    for i in range(len(arr)):\n",
    "        for j in range(i+1,len(arr)):\n",
    "            if(arr[i]>arr[j]):\n",
    "                temp=arr[i]\n",
    "                arr[i]=arr[j]\n",
    "                arr[j]=temp\n",
    "                \n",
    "    return arr\n",
    "                \n",
    "arr=[8,5,4,9,0,7,3,10,2]\n",
    "x=bubble_sort(arr)\n",
    "print(x)                \n",
    "            \n",
    "    "
   ]
  },
  {
   "cell_type": "code",
   "execution_count": null,
   "metadata": {},
   "outputs": [],
   "source": []
  }
 ],
 "metadata": {
  "kernelspec": {
   "display_name": "Python 3",
   "language": "python",
   "name": "python3"
  },
  "language_info": {
   "codemirror_mode": {
    "name": "ipython",
    "version": 3
   },
   "file_extension": ".py",
   "mimetype": "text/x-python",
   "name": "python",
   "nbconvert_exporter": "python",
   "pygments_lexer": "ipython3",
   "version": "3.8.5"
  }
 },
 "nbformat": 4,
 "nbformat_minor": 4
}
